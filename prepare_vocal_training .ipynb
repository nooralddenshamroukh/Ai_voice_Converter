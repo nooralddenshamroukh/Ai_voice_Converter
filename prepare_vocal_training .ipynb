{
  "cells": [
    {
      "cell_type": "code",
      "execution_count": null,
      "id": "97a33460",
      "metadata": {
        "colab": {
          "base_uri": "https://localhost:8080/",
          "height": 108
        },
        "id": "97a33460",
        "outputId": "e0e808c8-1677-45d2-90ec-0cbc452668be"
      },
      "outputs": [
        {
          "name": "stdout",
          "output_type": "stream",
          "text": [
            "📢 الرجاء رفع ملف صوتي بصيغة .wav\n"
          ]
        },
        {
          "data": {
            "text/html": [
              "\n",
              "     <input type=\"file\" id=\"files-044f1a6f-f60b-44c2-8fd6-de52d84b42d2\" name=\"files[]\" multiple disabled\n",
              "        style=\"border:none\" />\n",
              "     <output id=\"result-044f1a6f-f60b-44c2-8fd6-de52d84b42d2\">\n",
              "      Upload widget is only available when the cell has been executed in the\n",
              "      current browser session. Please rerun this cell to enable.\n",
              "      </output>\n",
              "      <script>// Copyright 2017 Google LLC\n",
              "//\n",
              "// Licensed under the Apache License, Version 2.0 (the \"License\");\n",
              "// you may not use this file except in compliance with the License.\n",
              "// You may obtain a copy of the License at\n",
              "//\n",
              "//      http://www.apache.org/licenses/LICENSE-2.0\n",
              "//\n",
              "// Unless required by applicable law or agreed to in writing, software\n",
              "// distributed under the License is distributed on an \"AS IS\" BASIS,\n",
              "// WITHOUT WARRANTIES OR CONDITIONS OF ANY KIND, either express or implied.\n",
              "// See the License for the specific language governing permissions and\n",
              "// limitations under the License.\n",
              "\n",
              "/**\n",
              " * @fileoverview Helpers for google.colab Python module.\n",
              " */\n",
              "(function(scope) {\n",
              "function span(text, styleAttributes = {}) {\n",
              "  const element = document.createElement('span');\n",
              "  element.textContent = text;\n",
              "  for (const key of Object.keys(styleAttributes)) {\n",
              "    element.style[key] = styleAttributes[key];\n",
              "  }\n",
              "  return element;\n",
              "}\n",
              "\n",
              "// Max number of bytes which will be uploaded at a time.\n",
              "const MAX_PAYLOAD_SIZE = 100 * 1024;\n",
              "\n",
              "function _uploadFiles(inputId, outputId) {\n",
              "  const steps = uploadFilesStep(inputId, outputId);\n",
              "  const outputElement = document.getElementById(outputId);\n",
              "  // Cache steps on the outputElement to make it available for the next call\n",
              "  // to uploadFilesContinue from Python.\n",
              "  outputElement.steps = steps;\n",
              "\n",
              "  return _uploadFilesContinue(outputId);\n",
              "}\n",
              "\n",
              "// This is roughly an async generator (not supported in the browser yet),\n",
              "// where there are multiple asynchronous steps and the Python side is going\n",
              "// to poll for completion of each step.\n",
              "// This uses a Promise to block the python side on completion of each step,\n",
              "// then passes the result of the previous step as the input to the next step.\n",
              "function _uploadFilesContinue(outputId) {\n",
              "  const outputElement = document.getElementById(outputId);\n",
              "  const steps = outputElement.steps;\n",
              "\n",
              "  const next = steps.next(outputElement.lastPromiseValue);\n",
              "  return Promise.resolve(next.value.promise).then((value) => {\n",
              "    // Cache the last promise value to make it available to the next\n",
              "    // step of the generator.\n",
              "    outputElement.lastPromiseValue = value;\n",
              "    return next.value.response;\n",
              "  });\n",
              "}\n",
              "\n",
              "/**\n",
              " * Generator function which is called between each async step of the upload\n",
              " * process.\n",
              " * @param {string} inputId Element ID of the input file picker element.\n",
              " * @param {string} outputId Element ID of the output display.\n",
              " * @return {!Iterable<!Object>} Iterable of next steps.\n",
              " */\n",
              "function* uploadFilesStep(inputId, outputId) {\n",
              "  const inputElement = document.getElementById(inputId);\n",
              "  inputElement.disabled = false;\n",
              "\n",
              "  const outputElement = document.getElementById(outputId);\n",
              "  outputElement.innerHTML = '';\n",
              "\n",
              "  const pickedPromise = new Promise((resolve) => {\n",
              "    inputElement.addEventListener('change', (e) => {\n",
              "      resolve(e.target.files);\n",
              "    });\n",
              "  });\n",
              "\n",
              "  const cancel = document.createElement('button');\n",
              "  inputElement.parentElement.appendChild(cancel);\n",
              "  cancel.textContent = 'Cancel upload';\n",
              "  const cancelPromise = new Promise((resolve) => {\n",
              "    cancel.onclick = () => {\n",
              "      resolve(null);\n",
              "    };\n",
              "  });\n",
              "\n",
              "  // Wait for the user to pick the files.\n",
              "  const files = yield {\n",
              "    promise: Promise.race([pickedPromise, cancelPromise]),\n",
              "    response: {\n",
              "      action: 'starting',\n",
              "    }\n",
              "  };\n",
              "\n",
              "  cancel.remove();\n",
              "\n",
              "  // Disable the input element since further picks are not allowed.\n",
              "  inputElement.disabled = true;\n",
              "\n",
              "  if (!files) {\n",
              "    return {\n",
              "      response: {\n",
              "        action: 'complete',\n",
              "      }\n",
              "    };\n",
              "  }\n",
              "\n",
              "  for (const file of files) {\n",
              "    const li = document.createElement('li');\n",
              "    li.append(span(file.name, {fontWeight: 'bold'}));\n",
              "    li.append(span(\n",
              "        `(${file.type || 'n/a'}) - ${file.size} bytes, ` +\n",
              "        `last modified: ${\n",
              "            file.lastModifiedDate ? file.lastModifiedDate.toLocaleDateString() :\n",
              "                                    'n/a'} - `));\n",
              "    const percent = span('0% done');\n",
              "    li.appendChild(percent);\n",
              "\n",
              "    outputElement.appendChild(li);\n",
              "\n",
              "    const fileDataPromise = new Promise((resolve) => {\n",
              "      const reader = new FileReader();\n",
              "      reader.onload = (e) => {\n",
              "        resolve(e.target.result);\n",
              "      };\n",
              "      reader.readAsArrayBuffer(file);\n",
              "    });\n",
              "    // Wait for the data to be ready.\n",
              "    let fileData = yield {\n",
              "      promise: fileDataPromise,\n",
              "      response: {\n",
              "        action: 'continue',\n",
              "      }\n",
              "    };\n",
              "\n",
              "    // Use a chunked sending to avoid message size limits. See b/62115660.\n",
              "    let position = 0;\n",
              "    do {\n",
              "      const length = Math.min(fileData.byteLength - position, MAX_PAYLOAD_SIZE);\n",
              "      const chunk = new Uint8Array(fileData, position, length);\n",
              "      position += length;\n",
              "\n",
              "      const base64 = btoa(String.fromCharCode.apply(null, chunk));\n",
              "      yield {\n",
              "        response: {\n",
              "          action: 'append',\n",
              "          file: file.name,\n",
              "          data: base64,\n",
              "        },\n",
              "      };\n",
              "\n",
              "      let percentDone = fileData.byteLength === 0 ?\n",
              "          100 :\n",
              "          Math.round((position / fileData.byteLength) * 100);\n",
              "      percent.textContent = `${percentDone}% done`;\n",
              "\n",
              "    } while (position < fileData.byteLength);\n",
              "  }\n",
              "\n",
              "  // All done.\n",
              "  yield {\n",
              "    response: {\n",
              "      action: 'complete',\n",
              "    }\n",
              "  };\n",
              "}\n",
              "\n",
              "scope.google = scope.google || {};\n",
              "scope.google.colab = scope.google.colab || {};\n",
              "scope.google.colab._files = {\n",
              "  _uploadFiles,\n",
              "  _uploadFilesContinue,\n",
              "};\n",
              "})(self);\n",
              "</script> "
            ],
            "text/plain": [
              "<IPython.core.display.HTML object>"
            ]
          },
          "metadata": {},
          "output_type": "display_data"
        },
        {
          "name": "stdout",
          "output_type": "stream",
          "text": [
            "Saving ahri voice.mp3 to ahri voice.mp3\n",
            "✅ تم حفظ الملف في: data/vocals/ahri voice.mp3\n"
          ]
        }
      ],
      "source": [
        "from google.colab import files\n",
        "import os\n",
        "import shutil\n",
        "\n",
        "input_dir = \"data/vocals\"\n",
        "os.makedirs(input_dir, exist_ok=True)\n",
        "\n",
        "print(\"📢 الرجاء رفع ملف صوتي بصيغة .wav\")\n",
        "uploaded = files.upload()\n",
        "\n",
        "for name in uploaded.keys():\n",
        "    dst = os.path.join(input_dir, name)\n",
        "    shutil.move(name, dst)\n",
        "    print(f\"✅ تم حفظ الملف في: {dst}\")\n"
      ]
    },
    {
      "cell_type": "code",
      "execution_count": null,
      "id": "ef3981d8",
      "metadata": {
        "id": "ef3981d8"
      },
      "outputs": [],
      "source": [
        "!pip install -q soundfile librosa\n"
      ]
    },
    {
      "cell_type": "code",
      "execution_count": null,
      "id": "cfee8038",
      "metadata": {
        "colab": {
          "base_uri": "https://localhost:8080/"
        },
        "id": "cfee8038",
        "outputId": "ac119a50-a3e8-4d4e-c5cb-f9c9a4502c51"
      },
      "outputs": [
        {
          "name": "stdout",
          "output_type": "stream",
          "text": [
            "✅ مقطع بدون صمت: data/non_silenced/ahri voice_0.wav\n",
            "✅ مقطع بدون صمت: data/non_silenced/ahri voice_1.wav\n",
            "✅ مقطع بدون صمت: data/non_silenced/ahri voice_2.wav\n",
            "✅ مقطع بدون صمت: data/non_silenced/ahri voice_3.wav\n",
            "✅ مقطع بدون صمت: data/non_silenced/ahri voice_4.wav\n",
            "✅ مقطع بدون صمت: data/non_silenced/ahri voice_5.wav\n",
            "✅ مقطع بدون صمت: data/non_silenced/ahri voice_6.wav\n",
            "✅ مقطع بدون صمت: data/non_silenced/ahri voice_7.wav\n",
            "✅ مقطع بدون صمت: data/non_silenced/ahri voice_8.wav\n",
            "✅ مقطع بدون صمت: data/non_silenced/ahri voice_9.wav\n",
            "✅ مقطع بدون صمت: data/non_silenced/ahri voice_10.wav\n",
            "✅ مقطع بدون صمت: data/non_silenced/ahri voice_11.wav\n",
            "✅ مقطع بدون صمت: data/non_silenced/ahri voice_12.wav\n",
            "✅ مقطع بدون صمت: data/non_silenced/ahri voice_13.wav\n",
            "✅ مقطع بدون صمت: data/non_silenced/ahri voice_14.wav\n",
            "✅ مقطع بدون صمت: data/non_silenced/ahri voice_15.wav\n",
            "✅ مقطع بدون صمت: data/non_silenced/ahri voice_16.wav\n",
            "✅ مقطع بدون صمت: data/non_silenced/ahri voice_17.wav\n",
            "✅ مقطع بدون صمت: data/non_silenced/ahri voice_18.wav\n",
            "✅ مقطع بدون صمت: data/non_silenced/ahri voice_19.wav\n",
            "✅ مقطع بدون صمت: data/non_silenced/ahri voice_20.wav\n",
            "✅ مقطع بدون صمت: data/non_silenced/ahri voice_21.wav\n",
            "✅ مقطع بدون صمت: data/non_silenced/ahri voice_22.wav\n",
            "✅ مقطع بدون صمت: data/non_silenced/ahri voice_23.wav\n",
            "✅ مقطع بدون صمت: data/non_silenced/ahri voice_24.wav\n",
            "✅ مقطع بدون صمت: data/non_silenced/ahri voice_25.wav\n",
            "✅ مقطع بدون صمت: data/non_silenced/ahri voice_26.wav\n",
            "✅ مقطع بدون صمت: data/non_silenced/ahri voice_27.wav\n",
            "✅ مقطع بدون صمت: data/non_silenced/ahri voice_28.wav\n",
            "✅ مقطع بدون صمت: data/non_silenced/ahri voice_29.wav\n",
            "✅ مقطع بدون صمت: data/non_silenced/ahri voice_30.wav\n",
            "✅ مقطع بدون صمت: data/non_silenced/ahri voice_31.wav\n",
            "✅ مقطع بدون صمت: data/non_silenced/ahri voice_32.wav\n",
            "✅ مقطع بدون صمت: data/non_silenced/ahri voice_33.wav\n",
            "✅ مقطع بدون صمت: data/non_silenced/ahri voice_34.wav\n",
            "✅ مقطع بدون صمت: data/non_silenced/ahri voice_35.wav\n",
            "✅ مقطع بدون صمت: data/non_silenced/ahri voice_36.wav\n",
            "✅ مقطع بدون صمت: data/non_silenced/ahri voice_37.wav\n",
            "✅ مقطع بدون صمت: data/non_silenced/ahri voice_38.wav\n",
            "✅ مقطع بدون صمت: data/non_silenced/ahri voice_39.wav\n",
            "✅ مقطع بدون صمت: data/non_silenced/ahri voice_40.wav\n",
            "✅ مقطع بدون صمت: data/non_silenced/ahri voice_41.wav\n",
            "✅ مقطع بدون صمت: data/non_silenced/ahri voice_42.wav\n",
            "✅ مقطع بدون صمت: data/non_silenced/ahri voice_43.wav\n",
            "✅ مقطع بدون صمت: data/non_silenced/ahri voice_44.wav\n",
            "✅ مقطع بدون صمت: data/non_silenced/ahri voice_45.wav\n",
            "✅ مقطع بدون صمت: data/non_silenced/ahri voice_46.wav\n",
            "✅ مقطع بدون صمت: data/non_silenced/ahri voice_47.wav\n",
            "✅ مقطع بدون صمت: data/non_silenced/ahri voice_48.wav\n",
            "✅ مقطع بدون صمت: data/non_silenced/ahri voice_49.wav\n",
            "✅ مقطع بدون صمت: data/non_silenced/ahri voice_50.wav\n",
            "✅ مقطع بدون صمت: data/non_silenced/ahri voice_51.wav\n",
            "✅ مقطع بدون صمت: data/non_silenced/ahri voice_52.wav\n",
            "✅ مقطع بدون صمت: data/non_silenced/ahri voice_53.wav\n",
            "✅ مقطع بدون صمت: data/non_silenced/ahri voice_54.wav\n",
            "✅ مقطع بدون صمت: data/non_silenced/ahri voice_55.wav\n",
            "✅ مقطع بدون صمت: data/non_silenced/ahri voice_56.wav\n",
            "✅ مقطع بدون صمت: data/non_silenced/ahri voice_57.wav\n",
            "✅ مقطع بدون صمت: data/non_silenced/ahri voice_58.wav\n",
            "✅ مقطع بدون صمت: data/non_silenced/ahri voice_59.wav\n",
            "✅ مقطع بدون صمت: data/non_silenced/ahri voice_60.wav\n",
            "✅ مقطع بدون صمت: data/non_silenced/ahri voice_61.wav\n"
          ]
        }
      ],
      "source": [
        "import librosa\n",
        "import soundfile\n",
        "import numpy as np\n",
        "\n",
        "class Slicer:\n",
        "    def __init__(self, sr, threshold=-40., min_length=5000, min_interval=300, hop_size=20, max_sil_kept=5000):\n",
        "        if not min_length >= min_interval >= hop_size:\n",
        "            raise ValueError(\"min_length >= min_interval >= hop_size\")\n",
        "        if not max_sil_kept >= hop_size:\n",
        "            raise ValueError(\"max_sil_kept >= hop_size\")\n",
        "        min_interval = sr * min_interval / 1000\n",
        "        self.threshold = 10 ** (threshold / 20.)\n",
        "        self.hop_size = round(sr * hop_size / 1000)\n",
        "        self.win_size = min(round(min_interval), 4 * self.hop_size)\n",
        "        self.min_length = round(sr * min_length / 1000 / self.hop_size)\n",
        "        self.min_interval = round(min_interval / self.hop_size)\n",
        "        self.max_sil_kept = round(sr * max_sil_kept / 1000 / self.hop_size)\n",
        "\n",
        "    def _apply_slice(self, waveform, begin, end):\n",
        "        return waveform[begin * self.hop_size: min(len(waveform), end * self.hop_size)]\n",
        "\n",
        "    def slice(self, waveform):\n",
        "        samples = waveform if waveform.ndim == 1 else waveform.mean(axis=0)\n",
        "        if samples.shape[0] <= self.min_length:\n",
        "            return [waveform]\n",
        "        rms = librosa.feature.rms(y=samples, frame_length=self.win_size, hop_length=self.hop_size)[0]\n",
        "        sil_tags, silence_start, clip_start = [], None, 0\n",
        "        for i, r in enumerate(rms):\n",
        "            if r < self.threshold:\n",
        "                if silence_start is None:\n",
        "                    silence_start = i\n",
        "                continue\n",
        "            if silence_start is None:\n",
        "                continue\n",
        "            if i - silence_start >= self.min_interval and i - clip_start >= self.min_length:\n",
        "                pos = rms[silence_start:i + 1].argmin() + silence_start\n",
        "                sil_tags.append((clip_start, pos))\n",
        "                clip_start = pos\n",
        "            silence_start = None\n",
        "        total = rms.shape[0]\n",
        "        if silence_start is not None and total - silence_start >= self.min_interval:\n",
        "            pos = rms[silence_start:].argmin() + silence_start\n",
        "            sil_tags.append((clip_start, pos))\n",
        "        chunks = [self._apply_slice(waveform, s, e) for s, e in sil_tags]\n",
        "        return chunks if chunks else [waveform]\n",
        "\n",
        "non_silenced_dir = \"data/non_silenced\"\n",
        "os.makedirs(non_silenced_dir, exist_ok=True)\n",
        "\n",
        "for audio_file in os.listdir(input_dir):\n",
        "    path = os.path.join(input_dir, audio_file)\n",
        "    audio, sr = librosa.load(path, sr=None, mono=True)\n",
        "    slicer = Slicer(sr=sr, threshold=-25, min_length=7000, min_interval=600, hop_size=15, max_sil_kept=700)\n",
        "    chunks = slicer.slice(audio)\n",
        "    for i, chunk in enumerate(chunks):\n",
        "        save_path = os.path.join(non_silenced_dir, f\"{audio_file.split('.')[0]}_{i}.wav\")\n",
        "        soundfile.write(save_path, chunk, sr)\n",
        "        print(f\"✅ مقطع بدون صمت: {save_path}\")\n"
      ]
    },
    {
      "cell_type": "code",
      "execution_count": null,
      "id": "7cb1f977",
      "metadata": {
        "colab": {
          "base_uri": "https://localhost:8080/"
        },
        "id": "7cb1f977",
        "outputId": "2c6326b3-124e-4b8c-80a3-bc770523227b"
      },
      "outputs": [
        {
          "name": "stderr",
          "output_type": "stream",
          "text": [
            " 23%|██▎       | 14/62 [00:00<00:00, 64.37it/s]"
          ]
        },
        {
          "name": "stdout",
          "output_type": "stream",
          "text": [
            "📁 segment saved: ahri voice_47_seg0.wav\n",
            "📁 segment saved: ahri voice_53_seg0.wav\n",
            "📁 segment saved: ahri voice_27_seg0.wav\n",
            "📁 segment saved: ahri voice_54_seg0.wav\n",
            "📁 segment saved: ahri voice_38_seg0.wav\n",
            "📁 segment saved: ahri voice_6_seg0.wav\n",
            "📁 segment saved: ahri voice_19_seg0.wav\n",
            "📁 segment saved: ahri voice_33_seg0.wav\n",
            "📁 segment saved: ahri voice_58_seg0.wav\n",
            "📁 segment saved: ahri voice_35_seg0.wav\n",
            "📁 segment saved: ahri voice_22_seg0.wav\n",
            "📁 segment saved: ahri voice_2_seg0.wav\n",
            "📁 segment saved: ahri voice_2_seg1.wav\n",
            "📁 segment saved: ahri voice_30_seg0.wav\n",
            "📁 segment saved: ahri voice_5_seg0.wav\n"
          ]
        },
        {
          "name": "stderr",
          "output_type": "stream",
          "text": [
            "\r 35%|███▌      | 22/62 [00:00<00:00, 68.17it/s]"
          ]
        },
        {
          "name": "stdout",
          "output_type": "stream",
          "text": [
            "📁 segment saved: ahri voice_41_seg0.wav\n",
            "📁 segment saved: ahri voice_23_seg0.wav\n",
            "📁 segment saved: ahri voice_7_seg0.wav\n",
            "📁 segment saved: ahri voice_10_seg0.wav\n",
            "📁 segment saved: ahri voice_48_seg0.wav\n",
            "📁 segment saved: ahri voice_24_seg0.wav\n",
            "📁 segment saved: ahri voice_60_seg0.wav\n",
            "📁 segment saved: ahri voice_59_seg0.wav\n",
            "📁 segment saved: ahri voice_9_seg0.wav\n",
            "📁 segment saved: ahri voice_17_seg0.wav\n",
            "📁 segment saved: ahri voice_52_seg0.wav\n",
            "📁 segment saved: ahri voice_11_seg0.wav\n",
            "📁 segment saved: ahri voice_39_seg0.wav\n",
            "📁 segment saved: ahri voice_1_seg0.wav\n",
            "📁 segment saved: ahri voice_45_seg0.wav\n"
          ]
        },
        {
          "name": "stderr",
          "output_type": "stream",
          "text": [
            " 61%|██████▏   | 38/62 [00:00<00:00, 70.17it/s]"
          ]
        },
        {
          "name": "stdout",
          "output_type": "stream",
          "text": [
            "📁 segment saved: ahri voice_44_seg0.wav\n",
            "📁 segment saved: ahri voice_20_seg0.wav\n",
            "📁 segment saved: ahri voice_28_seg0.wav\n",
            "📁 segment saved: ahri voice_40_seg0.wav\n",
            "📁 segment saved: ahri voice_29_seg0.wav\n",
            "📁 segment saved: ahri voice_31_seg0.wav\n",
            "📁 segment saved: ahri voice_0_seg0.wav\n",
            "📁 segment saved: ahri voice_50_seg0.wav\n",
            "📁 segment saved: ahri voice_16_seg0.wav\n",
            "📁 segment saved: ahri voice_26_seg0.wav\n",
            "📁 segment saved: ahri voice_25_seg0.wav\n",
            "📁 segment saved: ahri voice_12_seg0.wav\n",
            "📁 segment saved: ahri voice_42_seg0.wav\n",
            "📁 segment saved: ahri voice_43_seg0.wav\n",
            "📁 segment saved: ahri voice_4_seg0.wav\n"
          ]
        },
        {
          "name": "stderr",
          "output_type": "stream",
          "text": [
            " 87%|████████▋ | 54/62 [00:00<00:00, 70.72it/s]"
          ]
        },
        {
          "name": "stdout",
          "output_type": "stream",
          "text": [
            "📁 segment saved: ahri voice_14_seg0.wav\n",
            "📁 segment saved: ahri voice_51_seg0.wav\n",
            "📁 segment saved: ahri voice_13_seg0.wav\n",
            "📁 segment saved: ahri voice_55_seg0.wav\n",
            "📁 segment saved: ahri voice_8_seg0.wav\n",
            "📁 segment saved: ahri voice_46_seg0.wav\n",
            "📁 segment saved: ahri voice_32_seg0.wav\n",
            "📁 segment saved: ahri voice_57_seg0.wav\n",
            "📁 segment saved: ahri voice_37_seg0.wav\n",
            "📁 segment saved: ahri voice_21_seg0.wav\n",
            "📁 segment saved: ahri voice_34_seg0.wav\n",
            "📁 segment saved: ahri voice_3_seg0.wav\n",
            "📁 segment saved: ahri voice_61_seg0.wav\n",
            "📁 segment saved: ahri voice_49_seg0.wav\n",
            "📁 segment saved: ahri voice_18_seg0.wav\n"
          ]
        },
        {
          "name": "stderr",
          "output_type": "stream",
          "text": [
            "100%|██████████| 62/62 [00:00<00:00, 69.57it/s]"
          ]
        },
        {
          "name": "stdout",
          "output_type": "stream",
          "text": [
            "📁 segment saved: ahri voice_36_seg0.wav\n",
            "📁 segment saved: ahri voice_15_seg0.wav\n",
            "📁 segment saved: ahri voice_56_seg0.wav\n"
          ]
        },
        {
          "name": "stderr",
          "output_type": "stream",
          "text": [
            "\n"
          ]
        }
      ],
      "source": [
        "clip_dir = \"data/clips\"\n",
        "os.makedirs(clip_dir, exist_ok=True)\n",
        "\n",
        "min_sec = 6\n",
        "\n",
        "from tqdm import tqdm\n",
        "for file in tqdm(os.listdir(non_silenced_dir)):\n",
        "    if file.endswith(\".wav\"):\n",
        "        path = os.path.join(non_silenced_dir, file)\n",
        "        audio, sr = librosa.load(path, sr=None)\n",
        "        samples = int(min_sec * sr)\n",
        "        i, idx = 0, 0\n",
        "        while idx + samples < len(audio):\n",
        "            segment = audio[idx:idx+samples]\n",
        "            save_name = f\"{file.split('.')[0]}_seg{i}.wav\"\n",
        "            soundfile.write(os.path.join(clip_dir, save_name), segment, sr)\n",
        "            print(f\"📁 segment saved: {save_name}\")\n",
        "            idx += samples\n",
        "            i += 1\n"
      ]
    },
    {
      "cell_type": "code",
      "execution_count": null,
      "id": "7R-Y7SO4-YlN",
      "metadata": {
        "colab": {
          "base_uri": "https://localhost:8080/",
          "height": 34
        },
        "id": "7R-Y7SO4-YlN",
        "outputId": "5629111d-4076-45fd-e540-13cade7a83be"
      },
      "outputs": [
        {
          "data": {
            "application/javascript": "\n    async function download(id, filename, size) {\n      if (!google.colab.kernel.accessAllowed) {\n        return;\n      }\n      const div = document.createElement('div');\n      const label = document.createElement('label');\n      label.textContent = `Downloading \"${filename}\": `;\n      div.appendChild(label);\n      const progress = document.createElement('progress');\n      progress.max = size;\n      div.appendChild(progress);\n      document.body.appendChild(div);\n\n      const buffers = [];\n      let downloaded = 0;\n\n      const channel = await google.colab.kernel.comms.open(id);\n      // Send a message to notify the kernel that we're ready.\n      channel.send({})\n\n      for await (const message of channel.messages) {\n        // Send a message to notify the kernel that we're ready.\n        channel.send({})\n        if (message.buffers) {\n          for (const buffer of message.buffers) {\n            buffers.push(buffer);\n            downloaded += buffer.byteLength;\n            progress.value = downloaded;\n          }\n        }\n      }\n      const blob = new Blob(buffers, {type: 'application/binary'});\n      const a = document.createElement('a');\n      a.href = window.URL.createObjectURL(blob);\n      a.download = filename;\n      div.appendChild(a);\n      a.click();\n      div.remove();\n    }\n  ",
            "text/plain": [
              "<IPython.core.display.Javascript object>"
            ]
          },
          "metadata": {},
          "output_type": "display_data"
        },
        {
          "data": {
            "application/javascript": "download(\"download_1e365cda-536a-465b-b97f-e7d17442b2fc\", \"clips_output.zip\", 26204271)",
            "text/plain": [
              "<IPython.core.display.Javascript object>"
            ]
          },
          "metadata": {},
          "output_type": "display_data"
        },
        {
          "name": "stdout",
          "output_type": "stream",
          "text": [
            "✅ تم تجهيز وتحميل الملف المضغوط.\n"
          ]
        }
      ],
      "source": [
        "import shutil\n",
        "from google.colab import files\n",
        "\n",
        "zip_name = \"clips_output.zip\"\n",
        "\n",
        "shutil.make_archive(\"clips_output\", 'zip', \"data/clips\")\n",
        "\n",
        "files.download(zip_name)\n",
        "\n",
        "print(\"✅ تم تجهيز وتحميل الملف المضغوط.\")\n"
      ]
    }
  ],
  "metadata": {
    "accelerator": "GPU",
    "colab": {
      "gpuType": "T4",
      "provenance": []
    },
    "kernelspec": {
      "display_name": "Python 3",
      "name": "python3"
    },
    "language_info": {
      "name": "python"
    }
  },
  "nbformat": 4,
  "nbformat_minor": 5
}
